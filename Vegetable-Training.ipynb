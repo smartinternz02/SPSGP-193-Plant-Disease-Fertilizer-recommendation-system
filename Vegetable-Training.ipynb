{
 "cells": [
  {
   "cell_type": "code",
   "execution_count": 1,
   "metadata": {},
   "outputs": [
    {
     "name": "stderr",
     "output_type": "stream",
     "text": [
      "Using TensorFlow backend.\n"
     ]
    }
   ],
   "source": [
    "from keras.preprocessing.image import ImageDataGenerator\n",
    "train_datagen = ImageDataGenerator(rescale = 1./255,\n",
    "                                   shear_range = 0.2,\n",
    "                                   zoom_range = 0.2,\n",
    "                                   horizontal_flip = True)\n",
    "\n",
    "test_datagen =ImageDataGenerator(rescale = 1)"
   ]
  },
  {
   "cell_type": "code",
   "execution_count": 2,
   "metadata": {},
   "outputs": [
    {
     "name": "stdout",
     "output_type": "stream",
     "text": [
      "Found 11386 images belonging to 9 classes.\n"
     ]
    }
   ],
   "source": [
    "x_train = train_datagen.flow_from_directory('Downloads/Veg-dataset-20201212T071449Z-001/Veg-dataset/train_set', \n",
    "                                            target_size = (128,128), \n",
    "                                            batch_size = 16, \n",
    "                                            class_mode = 'categorical')"
   ]
  },
  {
   "cell_type": "code",
   "execution_count": 3,
   "metadata": {},
   "outputs": [
    {
     "name": "stdout",
     "output_type": "stream",
     "text": [
      "Found 3416 images belonging to 9 classes.\n"
     ]
    }
   ],
   "source": [
    "x_test = test_datagen.flow_from_directory('Downloads/Veg-dataset-20201212T071449Z-001/Veg-dataset/test_set', \n",
    "                                          target_size = (128,128), \n",
    "                                          batch_size = 16, \n",
    "                                          class_mode = 'categorical')"
   ]
  },
  {
   "cell_type": "code",
   "execution_count": 4,
   "metadata": {},
   "outputs": [
    {
     "name": "stdout",
     "output_type": "stream",
     "text": [
      "{'Pepper,_bell___Bacterial_spot': 0, 'Pepper,_bell___healthy': 1, 'Potato___Early_blight': 2, 'Potato___Late_blight': 3, 'Potato___healthy': 4, 'Tomato___Bacterial_spot': 5, 'Tomato___Late_blight': 6, 'Tomato___Leaf_Mold': 7, 'Tomato___Septoria_leaf_spot': 8}\n"
     ]
    }
   ],
   "source": [
    "print(x_train.class_indices)"
   ]
  },
  {
   "cell_type": "code",
   "execution_count": 5,
   "metadata": {},
   "outputs": [],
   "source": [
    "from keras.models import Sequential\n",
    "from keras.layers import Dense\n",
    "from keras.layers import Convolution2D\n",
    "from keras.layers import MaxPooling2D\n",
    "from keras.layers import Flatten\n",
    "import warnings\n",
    "warnings.filterwarnings('ignore')"
   ]
  },
  {
   "cell_type": "code",
   "execution_count": 6,
   "metadata": {},
   "outputs": [
    {
     "name": "stdout",
     "output_type": "stream",
     "text": [
      "WARNING:tensorflow:From C:\\Users\\akank\\Anaconda3\\lib\\site-packages\\keras\\backend\\tensorflow_backend.py:74: The name tf.get_default_graph is deprecated. Please use tf.compat.v1.get_default_graph instead.\n",
      "\n"
     ]
    }
   ],
   "source": [
    "model = Sequential()"
   ]
  },
  {
   "cell_type": "code",
   "execution_count": 7,
   "metadata": {},
   "outputs": [
    {
     "name": "stdout",
     "output_type": "stream",
     "text": [
      "WARNING:tensorflow:From C:\\Users\\akank\\Anaconda3\\lib\\site-packages\\keras\\backend\\tensorflow_backend.py:517: The name tf.placeholder is deprecated. Please use tf.compat.v1.placeholder instead.\n",
      "\n",
      "WARNING:tensorflow:From C:\\Users\\akank\\Anaconda3\\lib\\site-packages\\keras\\backend\\tensorflow_backend.py:4138: The name tf.random_uniform is deprecated. Please use tf.random.uniform instead.\n",
      "\n"
     ]
    }
   ],
   "source": [
    "model.add(Convolution2D(32,(3,3), input_shape = (128,128,3), activation = 'relu'))"
   ]
  },
  {
   "cell_type": "code",
   "execution_count": 8,
   "metadata": {},
   "outputs": [
    {
     "name": "stdout",
     "output_type": "stream",
     "text": [
      "WARNING:tensorflow:From C:\\Users\\akank\\Anaconda3\\lib\\site-packages\\keras\\backend\\tensorflow_backend.py:3976: The name tf.nn.max_pool is deprecated. Please use tf.nn.max_pool2d instead.\n",
      "\n"
     ]
    }
   ],
   "source": [
    "model.add(MaxPooling2D(pool_size = (2,2)))"
   ]
  },
  {
   "cell_type": "code",
   "execution_count": 9,
   "metadata": {},
   "outputs": [],
   "source": [
    "model.add(Flatten())"
   ]
  },
  {
   "cell_type": "code",
   "execution_count": 10,
   "metadata": {},
   "outputs": [],
   "source": [
    "model.add(Dense(units = 300, init ='uniform', activation ='relu'))"
   ]
  },
  {
   "cell_type": "code",
   "execution_count": 11,
   "metadata": {},
   "outputs": [],
   "source": [
    "model.add(Dense(units = 150, init ='uniform', activation ='relu'))"
   ]
  },
  {
   "cell_type": "code",
   "execution_count": 12,
   "metadata": {},
   "outputs": [],
   "source": [
    "model.add(Dense(units = 75, init ='uniform', activation ='relu'))"
   ]
  },
  {
   "cell_type": "code",
   "execution_count": 13,
   "metadata": {},
   "outputs": [],
   "source": [
    "model.add(Dense(output_dim = 9,activation = 'softmax',init ='uniform'))"
   ]
  },
  {
   "cell_type": "code",
   "execution_count": 14,
   "metadata": {},
   "outputs": [
    {
     "name": "stdout",
     "output_type": "stream",
     "text": [
      "WARNING:tensorflow:From C:\\Users\\akank\\Anaconda3\\lib\\site-packages\\keras\\optimizers.py:790: The name tf.train.Optimizer is deprecated. Please use tf.compat.v1.train.Optimizer instead.\n",
      "\n",
      "WARNING:tensorflow:From C:\\Users\\akank\\Anaconda3\\lib\\site-packages\\keras\\backend\\tensorflow_backend.py:3295: The name tf.log is deprecated. Please use tf.math.log instead.\n",
      "\n"
     ]
    }
   ],
   "source": [
    "model.compile(loss = 'categorical_crossentropy',optimizer = \"adam\",metrics = [\"accuracy\"])"
   ]
  },
  {
   "cell_type": "code",
   "execution_count": 15,
   "metadata": {
    "scrolled": true
   },
   "outputs": [
    {
     "name": "stdout",
     "output_type": "stream",
     "text": [
      "WARNING:tensorflow:From C:\\Users\\akank\\Anaconda3\\lib\\site-packages\\tensorflow\\python\\ops\\math_grad.py:1250: add_dispatch_support.<locals>.wrapper (from tensorflow.python.ops.array_ops) is deprecated and will be removed in a future version.\n",
      "Instructions for updating:\n",
      "Use tf.where in 2.0, which has the same broadcast rule as np.where\n",
      "WARNING:tensorflow:From C:\\Users\\akank\\Anaconda3\\lib\\site-packages\\keras\\backend\\tensorflow_backend.py:986: The name tf.assign_add is deprecated. Please use tf.compat.v1.assign_add instead.\n",
      "\n",
      "Epoch 1/20\n",
      "89/89 [==============================] - 99s 1s/step - loss: 2.0424 - acc: 0.2275 - val_loss: 11.3668 - val_acc: 0.2662\n",
      "Epoch 2/20\n",
      "89/89 [==============================] - 90s 1s/step - loss: 1.7094 - acc: 0.3673 - val_loss: 12.3573 - val_acc: 0.2315\n",
      "Epoch 3/20\n",
      "89/89 [==============================] - 92s 1s/step - loss: 1.5053 - acc: 0.4565 - val_loss: 10.1611 - val_acc: 0.3681\n",
      "Epoch 4/20\n",
      "89/89 [==============================] - 68s 762ms/step - loss: 1.3575 - acc: 0.5021 - val_loss: 8.9861 - val_acc: 0.4352\n",
      "Epoch 5/20\n",
      "89/89 [==============================] - 68s 766ms/step - loss: 1.1937 - acc: 0.5765 - val_loss: 11.5216 - val_acc: 0.2824\n",
      "Epoch 6/20\n",
      "89/89 [==============================] - 66s 746ms/step - loss: 1.1275 - acc: 0.5885 - val_loss: 11.5289 - val_acc: 0.2847\n",
      "Epoch 7/20\n",
      "89/89 [==============================] - 70s 792ms/step - loss: 1.1227 - acc: 0.5808 - val_loss: 11.1822 - val_acc: 0.3032\n",
      "Epoch 8/20\n",
      "89/89 [==============================] - 66s 736ms/step - loss: 0.9140 - acc: 0.6556 - val_loss: 10.5063 - val_acc: 0.3467\n",
      "Epoch 9/20\n",
      "89/89 [==============================] - 63s 703ms/step - loss: 0.8287 - acc: 0.6959 - val_loss: 11.5322 - val_acc: 0.2824\n",
      "Epoch 10/20\n",
      "89/89 [==============================] - 64s 715ms/step - loss: 0.7648 - acc: 0.7198 - val_loss: 12.6695 - val_acc: 0.2130\n",
      "Epoch 11/20\n",
      "89/89 [==============================] - 62s 698ms/step - loss: 0.7741 - acc: 0.7205 - val_loss: 10.9387 - val_acc: 0.3194\n",
      "Epoch 12/20\n",
      "89/89 [==============================] - 63s 711ms/step - loss: 0.7605 - acc: 0.7367 - val_loss: 11.4170 - val_acc: 0.2917\n",
      "Epoch 13/20\n",
      "89/89 [==============================] - 63s 710ms/step - loss: 0.6998 - acc: 0.7591 - val_loss: 11.1814 - val_acc: 0.3032\n",
      "Epoch 14/20\n",
      "89/89 [==============================] - 63s 710ms/step - loss: 0.6853 - acc: 0.7465 - val_loss: 12.2831 - val_acc: 0.2338\n",
      "Epoch 15/20\n",
      "89/89 [==============================] - 62s 700ms/step - loss: 0.6944 - acc: 0.7437 - val_loss: 11.4877 - val_acc: 0.2870\n",
      "Epoch 16/20\n",
      "89/89 [==============================] - 62s 692ms/step - loss: 0.6013 - acc: 0.7844 - val_loss: 12.5447 - val_acc: 0.2217\n",
      "Epoch 17/20\n",
      "89/89 [==============================] - 62s 692ms/step - loss: 0.6643 - acc: 0.7577 - val_loss: 10.9320 - val_acc: 0.3218\n",
      "Epoch 18/20\n",
      "89/89 [==============================] - 62s 695ms/step - loss: 0.5541 - acc: 0.8048 - val_loss: 11.3065 - val_acc: 0.2963\n",
      "Epoch 19/20\n",
      "89/89 [==============================] - 63s 703ms/step - loss: 0.5811 - acc: 0.7935 - val_loss: 12.8272 - val_acc: 0.2037\n",
      "Epoch 20/20\n",
      "89/89 [==============================] - 64s 715ms/step - loss: 0.5543 - acc: 0.8020 - val_loss: 11.7528 - val_acc: 0.2708\n"
     ]
    },
    {
     "data": {
      "text/plain": [
       "<keras.callbacks.History at 0x296e437cc88>"
      ]
     },
     "execution_count": 15,
     "metadata": {},
     "output_type": "execute_result"
    }
   ],
   "source": [
    "model.fit_generator(x_train, steps_per_epoch = 89,\n",
    "                    epochs = 20,\n",
    "                    validation_data = x_test,\n",
    "                    validation_steps = 27)"
   ]
  },
  {
   "cell_type": "code",
   "execution_count": 34,
   "metadata": {},
   "outputs": [],
   "source": [
    "model.save('vegetable.h5')"
   ]
  },
  {
   "cell_type": "code",
   "execution_count": 35,
   "metadata": {},
   "outputs": [],
   "source": [
    "from keras.models import load_model\n",
    "from keras.preprocessing.image import load_img\n",
    "from keras.preprocessing.image import img_to_array\n",
    "import numpy as np\n",
    "import cv2"
   ]
  },
  {
   "cell_type": "code",
   "execution_count": 36,
   "metadata": {},
   "outputs": [],
   "source": [
    "model = load_model(\"vegetable.h5\")"
   ]
  },
  {
   "cell_type": "code",
   "execution_count": 37,
   "metadata": {
    "scrolled": true
   },
   "outputs": [
    {
     "data": {
      "text/plain": [
       "(1, 128, 128, 3)"
      ]
     },
     "execution_count": 37,
     "metadata": {},
     "output_type": "execute_result"
    }
   ],
   "source": [
    "img = load_img('Downloads/Veg-dataset-20201212T071449Z-001/Veg-dataset/test_set/Tomato___Bacterial_spot/b433dcf3-c57d-4f5e-9116-5aaeecbaef01___GCREC_Bact.Sp 3715.jpg',\n",
    "                     target_size = (128,128))\n",
    "x = img_to_array(img)\n",
    "x = np.expand_dims(x,axis = 0)\n",
    "x.shape"
   ]
  },
  {
   "cell_type": "code",
   "execution_count": 38,
   "metadata": {},
   "outputs": [
    {
     "data": {
      "text/plain": [
       "array([8], dtype=int64)"
      ]
     },
     "execution_count": 38,
     "metadata": {},
     "output_type": "execute_result"
    }
   ],
   "source": [
    "pred = model.predict_classes(x)\n",
    "pred"
   ]
  },
  {
   "cell_type": "code",
   "execution_count": null,
   "metadata": {},
   "outputs": [],
   "source": []
  },
  {
   "cell_type": "code",
   "execution_count": null,
   "metadata": {},
   "outputs": [],
   "source": []
  },
  {
   "cell_type": "code",
   "execution_count": null,
   "metadata": {},
   "outputs": [],
   "source": []
  }
 ],
 "metadata": {
  "kernelspec": {
   "display_name": "Python 3",
   "language": "python",
   "name": "python3"
  },
  "language_info": {
   "codemirror_mode": {
    "name": "ipython",
    "version": 3
   },
   "file_extension": ".py",
   "mimetype": "text/x-python",
   "name": "python",
   "nbconvert_exporter": "python",
   "pygments_lexer": "ipython3",
   "version": "3.7.4"
  }
 },
 "nbformat": 4,
 "nbformat_minor": 2
}
